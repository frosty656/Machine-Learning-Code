{
 "cells": [
  {
   "cell_type": "code",
   "execution_count": 13,
   "metadata": {
    "scrolled": true
   },
   "outputs": [
    {
     "name": "stdout",
     "output_type": "stream",
     "text": [
      "3.5\n",
      "3.5\n",
      "[-2.5, -1.5, -0.5, 0.5, 1.5, 2.5]\n",
      "-2.5\n"
     ]
    }
   ],
   "source": [
    "import ExampleLib as myStatsLib\n",
    "\n",
    "myList = [1,2,3,4,5,6]\n",
    "\n",
    "x = [1,2,3,4,5]\n",
    "y = [6,7,8,9,0]\n",
    "\n",
    "print(myLib.mean(myList))\n",
    "\n",
    "print(myLib.variance(myList))\n",
    "\n",
    "print(myLib.diff_from_mean(myList))\n",
    "\n",
    "print(myLib.covariance(x,y))\n"
   ]
  },
  {
   "cell_type": "code",
   "execution_count": null,
   "metadata": {},
   "outputs": [],
   "source": []
  }
 ],
 "metadata": {
  "kernelspec": {
   "display_name": "Python 3",
   "language": "python",
   "name": "python3"
  },
  "language_info": {
   "codemirror_mode": {
    "name": "ipython",
    "version": 3
   },
   "file_extension": ".py",
   "mimetype": "text/x-python",
   "name": "python",
   "nbconvert_exporter": "python",
   "pygments_lexer": "ipython3",
   "version": "3.7.4"
  }
 },
 "nbformat": 4,
 "nbformat_minor": 2
}
